{
 "cells": [
  {
   "cell_type": "code",
   "execution_count": null,
   "metadata": {},
   "outputs": [],
   "source": [
    "# importar módulos relevantes\n",
    "import numpy as np\n",
    "import pandas as pd"
   ]
  },
  {
   "cell_type": "code",
   "execution_count": null,
   "metadata": {},
   "outputs": [],
   "source": [
    "# Preencher a seguinte função\n",
    "def load_image(name):\n",
    "    \"\"\"Carrega imagens da pasta 'imgs' usando opencv.\n",
    "    Converte a image para RGB em float32.\n",
    "    Retorna imagem como um array Numpy.\n",
    "    \"\"\"\n",
    "    pass\n",
    "\n",
    "balls = load_image('imgs/bolas.jpg')\n",
    "assert isinstance(balls, np.ndarray)\n",
    "assert balls.dtype == np.float32"
   ]
  },
  {
   "cell_type": "code",
   "execution_count": null,
   "metadata": {},
   "outputs": [],
   "source": [
    "# Preencher\n",
    "def show_image(img):\n",
    "    \"\"\"Usando matplotlib mostre a imagem.\"\"\"\n",
    "    pass\n",
    "\n",
    "show_image(balls)"
   ]
  },
  {
   "cell_type": "code",
   "execution_count": null,
   "metadata": {},
   "outputs": [],
   "source": [
    "# Dica: procure uma função no OpenCV que encontra os círculos em imagens.\n",
    "# Esta fução possui vários parâmetros que funcionam como ajustes para a detecção.\n",
    "# Teste várias combinações até conseguir um resultado satisfatório.\n",
    "# Você pode processar os resultados para melhorá-los.\n",
    "def find_circles_in_image(image):\n",
    "    \"\"\"Usando opencv encontre os círculos na imagem.\n",
    "    Retorne uma imagem RGB com os círculos que forem detectados\n",
    "    *desenhados* sobre a imagem de entrada. Além disto, retorne uma lista\n",
    "    contendo todos os círculos detectados.\"\"\" \n",
    "\n",
    "img, l = find_circles_in_image(balls)\n",
    "assert isinstance(img, np.ndarray)\n",
    "assert len(l) == 5"
   ]
  },
  {
   "cell_type": "code",
   "execution_count": null,
   "metadata": {},
   "outputs": [],
   "source": [
    "def crop_balls(image):\n",
    "    \"\"\"Utilizando a função anterior recorte os círculos detectados. \n",
    "    O objetivo é retornar uma imagem por círculo detectado. Cada imagem\n",
    "    deve ter as mesmas dimensões da imagem de entrada, fundo branco, e \n",
    "    conter apenas um dos círculos detectados.\n",
    "    \"\"\"\n",
    "    pass\n",
    "\n",
    "# Mostre cada uma das imagens\n",
    "for i in crop_balls(balls):\n",
    "    show_image(i)"
   ]
  },
  {
   "cell_type": "code",
   "execution_count": null,
   "metadata": {},
   "outputs": [],
   "source": [
    "# Usandos pandas, crie uma função que carregue um csv.\n",
    "def load_data(filename):\n",
    "    \"\"\"Carregue um .csv na pasta 'data' e retorne como um Dataframe.\"\"\"\n",
    "    pass\n",
    "\n",
    "data = load_data('heights_weights.csv')\n",
    "assert isinstance(data, pd.DataFrame)\n"
   ]
  },
  {
   "cell_type": "code",
   "execution_count": null,
   "metadata": {},
   "outputs": [],
   "source": [
    "\n",
    "def show_data(data, bins=10):\n",
    "    \"\"\"Usando matplotlib crie e mostre um histograma para\n",
    "    os dados em *data*.\"\"\"\n",
    "\n",
    "\n",
    "show_data(data['Height'])\n",
    "\n",
    "show_data(data['Weight'])"
   ]
  },
  {
   "cell_type": "code",
   "execution_count": null,
   "metadata": {},
   "outputs": [],
   "source": [
    "def show_scatter_plot(datax, datay):\n",
    "    \"\"\"Crie um scatter para os dados em *datax*, *datay* e\n",
    "     exiba-o usando matplotlib.\"\"\"\n",
    "\n",
    "show_scatter_plot(data['Height'], data['Weight'])"
   ]
  },
  {
   "cell_type": "code",
   "execution_count": null,
   "metadata": {},
   "outputs": [],
   "source": [
    "# Utilizando as funções anteriores, avalie a *corretude* dos\n",
    "# dados em data['Age']. Isto é, encontre erros que possam existir\n",
    "# nesses dados.\n",
    "show_scatter_plot(data['Age'], data['Weight'])\n",
    "\n",
    "# *Filtre* os dados no dataframe de forma a manter apenas as linhas\n",
    "# que contém dados aceitáveis."
   ]
  }
 ],
 "metadata": {
  "kernelspec": {
   "display_name": "env",
   "language": "python",
   "name": "python3"
  },
  "language_info": {
   "codemirror_mode": {
    "name": "ipython",
    "version": 3
   },
   "file_extension": ".py",
   "mimetype": "text/x-python",
   "name": "python",
   "nbconvert_exporter": "python",
   "pygments_lexer": "ipython3",
   "version": "3.10.6"
  },
  "orig_nbformat": 4,
  "vscode": {
   "interpreter": {
    "hash": "38e4781a3432f61e7c4c1f2059660e485ad8243f71c4f3066bf84fca64515e5f"
   }
  }
 },
 "nbformat": 4,
 "nbformat_minor": 2
}
