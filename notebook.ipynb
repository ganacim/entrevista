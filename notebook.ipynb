{
 "cells": [
  {
   "cell_type": "code",
   "execution_count": 1,
   "metadata": {},
   "outputs": [],
   "source": [
    "# importar módulos relevantes"
   ]
  },
  {
   "cell_type": "code",
   "execution_count": 4,
   "metadata": {},
   "outputs": [],
   "source": [
    "# Preencher a seguinte função\n",
    "def load_image(name):\n",
    "    \"Carrega imagens da pasta 'imgs' usando opencv.\"\n",
    "    pass\n",
    "\n",
    "\n",
    "bola = load_image('bola.jpg')"
   ]
  },
  {
   "cell_type": "code",
   "execution_count": 3,
   "metadata": {},
   "outputs": [],
   "source": [
    "# Preencher\n",
    "def show_image(img):\n",
    "    \"Mostra uma imagem usando matplotlib.\"\n",
    "    pass\n",
    "\n",
    "show_image(bola)"
   ]
  },
  {
   "cell_type": "code",
   "execution_count": null,
   "metadata": {},
   "outputs": [],
   "source": [
    "# https://docs.opencv.org/3.4/d4/d70/tutorial_hough_circle.html\n",
    "\n",
    "def find_circles_in_image(image):\n",
    "    \"\"\"Usando opencv encontre os círculos na imagem.\n",
    "    Retorne uma imagem com o círculo desenhado\n",
    "    \"\"\" \n",
    "\n",
    "show_image(find_circles_in_image(bola))"
   ]
  },
  {
   "cell_type": "code",
   "execution_count": null,
   "metadata": {},
   "outputs": [],
   "source": [
    "# Usando pandas\n",
    "def load_data(filename):\n",
    "    \"\"\"\"Carregue um .csv na pasta 'data' e retorne como um Dataframe.\"\"\"\n",
    "    pass\n",
    "\n",
    "data = load_data('heights_weights.csv')"
   ]
  },
  {
   "cell_type": "code",
   "execution_count": null,
   "metadata": {},
   "outputs": [],
   "source": [
    "def show_histogram(data, bins=10):\n",
    "    \"\"\"\"Cria histograma para data\"\"\"\n",
    "\n",
    "\n",
    "show_histogram(data['Height'])\n",
    "\n",
    "show_histogram(data['Weight'])"
   ]
  },
  {
   "cell_type": "code",
   "execution_count": null,
   "metadata": {},
   "outputs": [],
   "source": [
    "def show_scatter_plot(datax, datay):\n",
    "    \"\"\"Mostrar scatter plot.\"\"\"\n",
    "\n",
    "show_scatter_plot(data['Height'], data['Weight'])"
   ]
  }
 ],
 "metadata": {
  "kernelspec": {
   "display_name": "env",
   "language": "python",
   "name": "python3"
  },
  "language_info": {
   "codemirror_mode": {
    "name": "ipython",
    "version": 3
   },
   "file_extension": ".py",
   "mimetype": "text/x-python",
   "name": "python",
   "nbconvert_exporter": "python",
   "pygments_lexer": "ipython3",
   "version": "3.10.6"
  },
  "orig_nbformat": 4,
  "vscode": {
   "interpreter": {
    "hash": "38e4781a3432f61e7c4c1f2059660e485ad8243f71c4f3066bf84fca64515e5f"
   }
  }
 },
 "nbformat": 4,
 "nbformat_minor": 2
}
